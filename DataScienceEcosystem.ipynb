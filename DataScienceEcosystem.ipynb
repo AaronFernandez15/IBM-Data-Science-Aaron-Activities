{
 "cells": [
  {
   "cell_type": "markdown",
   "id": "7b7f80dc",
   "metadata": {},
   "source": [
    "# Data Science Tools and Ecosystem"
   ]
  },
  {
   "cell_type": "markdown",
   "id": "d974c6b2",
   "metadata": {},
   "source": [
    "***In this notebook, Data Science Tools and Ecosystem are summarized.***\n",
    "\n",
    "**Objectives:** \n",
    "\n",
    "* List Popular Languages That Data Scientist use\n",
    "* List Commonly used Libraries by Data Scientists\n",
    "* A Table of Open-Source Data Science Development Tools\n",
    "* Introducing Arithmetic Expressions\n",
    "    * Simple Multiply then Add Integers\n",
    "    * Converting Minutes to Hours"
   ]
  },
  {
   "cell_type": "markdown",
   "id": "66f4045c",
   "metadata": {},
   "source": [
    "\n",
    "Some of the popular languages that Data Scientist use are:\n",
    "\n",
    "1. Phyton\n",
    "2. R\n",
    "3. SQL\n",
    "4. JavaScript\n",
    "5. Java\n",
    "6. C/C++\n",
    "7. Matlab\n",
    "8. Scala\n",
    "9. Julia\n",
    "10. SAS"
   ]
  },
  {
   "cell_type": "markdown",
   "id": "8237cc93",
   "metadata": {},
   "source": [
    "Some of the commonly used libraries used by Data Scientists include:\n",
    "\n",
    "1. NumPy\n",
    "2. SciPy\n",
    "3. Pandas\n",
    "4. Matplotlib\n",
    "5. Plotly\n",
    "6. TensorFlow\n",
    "7. Pytorch\n",
    "8. Keras\n",
    "9. Scikit-Learn\n",
    "10. Seaborn"
   ]
  },
  {
   "cell_type": "markdown",
   "id": "1cb86b3d",
   "metadata": {},
   "source": [
    "| Data Science Tools |\n",
    "|:------------------ |\n",
    "| Jupyter Notebook |\n",
    "| RStudio |\n",
    "| Anaconda |"
   ]
  },
  {
   "cell_type": "markdown",
   "id": "e2eb8109",
   "metadata": {},
   "source": [
    "### Below are few examples of evaluating arithmetic expressions in Phyton"
   ]
  },
  {
   "cell_type": "code",
   "execution_count": 1,
   "id": "82acc999",
   "metadata": {},
   "outputs": [
    {
     "data": {
      "text/plain": [
       "17"
      ]
     },
     "execution_count": 1,
     "metadata": {},
     "output_type": "execute_result"
    }
   ],
   "source": [
    "## This is a simple arithmetic expression to multiply then add itegers.\n",
    "(3*4)+5"
   ]
  },
  {
   "cell_type": "code",
   "execution_count": 3,
   "id": "a6af4c69",
   "metadata": {},
   "outputs": [
    {
     "name": "stdout",
     "output_type": "stream",
     "text": [
      "3.3333333333333335 hrs\n"
     ]
    }
   ],
   "source": [
    "## This will convert 200 minutes to hours by dividing by 60\n",
    "\n",
    "hours = 200/60\n",
    "\n",
    "print(hours, \"hrs\")"
   ]
  },
  {
   "cell_type": "code",
   "execution_count": 4,
   "id": "8bc7b480",
   "metadata": {},
   "outputs": [
    {
     "name": "stdout",
     "output_type": "stream",
     "text": [
      "3.33 hrs\n"
     ]
    }
   ],
   "source": [
    "## Format float to produce 2 decimals\n",
    "float = 3.3333333333333335\n",
    "format_float = \"{:.2f}\".format(float)\n",
    "print(format_float, \"hrs\")"
   ]
  },
  {
   "cell_type": "markdown",
   "id": "89c403f8",
   "metadata": {},
   "source": [
    "## Author\n",
    "Aaron B. Fernandez"
   ]
  }
 ],
 "metadata": {
  "kernelspec": {
   "display_name": "Python 3 (ipykernel)",
   "language": "python",
   "name": "python3"
  },
  "language_info": {
   "codemirror_mode": {
    "name": "ipython",
    "version": 3
   },
   "file_extension": ".py",
   "mimetype": "text/x-python",
   "name": "python",
   "nbconvert_exporter": "python",
   "pygments_lexer": "ipython3",
   "version": "3.11.5"
  }
 },
 "nbformat": 4,
 "nbformat_minor": 5
}
